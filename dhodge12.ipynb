{
  "cells": [
    {
      "cell_type": "markdown",
      "metadata": {
        "id": "view-in-github",
        "colab_type": "text"
      },
      "source": [
        "<a href=\"https://colab.research.google.com/github/Brycen-H/Practice0/blob/main/dhodge12.ipynb\" target=\"_parent\"><img src=\"https://colab.research.google.com/assets/colab-badge.svg\" alt=\"Open In Colab\"/></a>"
      ]
    },
    {
      "cell_type": "code",
      "source": [
        "!pip install bson"
      ],
      "metadata": {
        "id": "ifSoLXLTVtm0",
        "outputId": "30fdc501-4d18-4830-a654-d88bec5429da",
        "colab": {
          "base_uri": "https://localhost:8080/"
        }
      },
      "execution_count": 1,
      "outputs": [
        {
          "output_type": "stream",
          "name": "stdout",
          "text": [
            "Collecting bson\n",
            "  Downloading bson-0.5.10.tar.gz (10 kB)\n",
            "  Preparing metadata (setup.py) ... \u001b[?25l\u001b[?25hdone\n",
            "Requirement already satisfied: python-dateutil>=2.4.0 in /usr/local/lib/python3.10/dist-packages (from bson) (2.8.2)\n",
            "Requirement already satisfied: six>=1.9.0 in /usr/local/lib/python3.10/dist-packages (from bson) (1.16.0)\n",
            "Building wheels for collected packages: bson\n",
            "  Building wheel for bson (setup.py) ... \u001b[?25l\u001b[?25hdone\n",
            "  Created wheel for bson: filename=bson-0.5.10-py3-none-any.whl size=11975 sha256=adf6cefeaefc46c498507dcf34d2fd72af6e72577acb50126075ab66a0795c3d\n",
            "  Stored in directory: /root/.cache/pip/wheels/36/49/3b/8b33954dfae7a176009c4d721a45af56c8a9c1cdc3ee947945\n",
            "Successfully built bson\n",
            "Installing collected packages: bson\n",
            "Successfully installed bson-0.5.10\n"
          ]
        }
      ]
    },
    {
      "cell_type": "code",
      "source": [
        "!pip install pymongo"
      ],
      "metadata": {
        "id": "D3vZ2vxYV86C",
        "outputId": "48b6f9f3-6c0a-4dcc-a3d2-0dccb9a9dee2",
        "colab": {
          "base_uri": "https://localhost:8080/"
        }
      },
      "execution_count": 2,
      "outputs": [
        {
          "output_type": "stream",
          "name": "stdout",
          "text": [
            "Collecting pymongo\n",
            "  Downloading pymongo-4.8.0-cp310-cp310-manylinux_2_17_x86_64.manylinux2014_x86_64.whl.metadata (22 kB)\n",
            "Collecting dnspython<3.0.0,>=1.16.0 (from pymongo)\n",
            "  Downloading dnspython-2.6.1-py3-none-any.whl.metadata (5.8 kB)\n",
            "Downloading pymongo-4.8.0-cp310-cp310-manylinux_2_17_x86_64.manylinux2014_x86_64.whl (1.2 MB)\n",
            "\u001b[2K   \u001b[90m━━━━━━━━━━━━━━━━━━━━━━━━━━━━━━━━━━━━━━━━\u001b[0m \u001b[32m1.2/1.2 MB\u001b[0m \u001b[31m13.8 MB/s\u001b[0m eta \u001b[36m0:00:00\u001b[0m\n",
            "\u001b[?25hDownloading dnspython-2.6.1-py3-none-any.whl (307 kB)\n",
            "\u001b[2K   \u001b[90m━━━━━━━━━━━━━━━━━━━━━━━━━━━━━━━━━━━━━━━━\u001b[0m \u001b[32m307.7/307.7 kB\u001b[0m \u001b[31m17.0 MB/s\u001b[0m eta \u001b[36m0:00:00\u001b[0m\n",
            "\u001b[?25hInstalling collected packages: dnspython, pymongo\n",
            "Successfully installed dnspython-2.6.1 pymongo-4.8.0\n"
          ]
        }
      ]
    },
    {
      "cell_type": "code",
      "execution_count": 3,
      "metadata": {
        "id": "UVLRNFSvVajV",
        "outputId": "edecb9e5-9959-47e1-a8c8-ca38d5ad98da",
        "colab": {
          "base_uri": "https://localhost:8080/"
        }
      },
      "outputs": [
        {
          "output_type": "stream",
          "name": "stdout",
          "text": [
            "IPython version:      %6.6s 7.34.0\n"
          ]
        }
      ],
      "source": [
        "import IPython\n",
        "import json\n",
        "# Numpy is a library for working with Arrays\n",
        "import numpy as np\n",
        "# SciPy implements many different numerical algorithms\n",
        "import scipy as sp\n",
        "# Pandas is good with data tables\n",
        "import pandas as pd\n",
        "# Module for plotting\n",
        "import matplotlib\n",
        "#BeautifulSoup parses HTML documents (once you get them via requests)\n",
        "import bs4\n",
        "# Nltk helps with some natural language tasks, like stemming\n",
        "import nltk\n",
        "# Bson is a binary format of json to be stored in databases\n",
        "import bson\n",
        "# Mongo is one of common nosql databases\n",
        "# it stores/searches json documents natively\n",
        "import pymongo\n",
        "print (\"IPython version:      %6.6s\", IPython.__version__)"
      ]
    },
    {
      "cell_type": "code",
      "execution_count": 4,
      "metadata": {
        "id": "crZEbnGxVajW",
        "outputId": "b230c580-70af-4f0b-8a83-bf16b1a4ee67",
        "colab": {
          "base_uri": "https://localhost:8080/"
        }
      },
      "outputs": [
        {
          "output_type": "stream",
          "name": "stdout",
          "text": [
            "Make a 2 row x 3 column array of random numbers\n",
            "[[0.79194418 0.3121825  0.13002835]\n",
            " [0.98049797 0.00230487 0.02558206]]\n",
            "Add 5 to every element\n",
            "[[5.79194418 5.3121825  5.13002835]\n",
            " [5.98049797 5.00230487 5.02558206]]\n",
            "Get the first row\n",
            "[5.79194418 5.3121825  5.13002835]\n"
          ]
        }
      ],
      "source": [
        "#Here is what numpy can do\\n\",\n",
        "print (\"Make a 2 row x 3 column array of random numbers\")\n",
        "x = np.random.random((2, 3))\n",
        "print (x)\n",
        "\n",
        "#array operation (as in R)\n",
        "print (\"Add 5 to every element\")\n",
        "x = x + 5\n",
        "print (x)\n",
        "\n",
        "# get a slice (first row) (as in R)\n",
        "print (\"Get the first row\")\n",
        "print (x[0, :])"
      ]
    },
    {
      "cell_type": "code",
      "execution_count": 5,
      "metadata": {
        "id": "vTcScKSNVajW",
        "outputId": "cfb6ad6f-6bf5-4b20-b778-207d01123195",
        "colab": {
          "base_uri": "https://localhost:8080/"
        }
      },
      "outputs": [
        {
          "output_type": "execute_result",
          "data": {
            "text/plain": [
              "<function ndarray.any>"
            ]
          },
          "metadata": {},
          "execution_count": 5
        }
      ],
      "source": [
        "# IPython is quite modern: just press <TAB> at the end of the unfinished statement to see the documentation\n",
        "#       on possible completions.\n",
        "#       In the code cell below, type x.<TAB>, to find built-in operations for x\n",
        "x.any"
      ]
    },
    {
      "cell_type": "code",
      "execution_count": 6,
      "metadata": {
        "id": "8DbGahJeVajX",
        "outputId": "f2871760-8b2b-4077-e07c-ced26116a621",
        "colab": {
          "base_uri": "https://localhost:8080/",
          "height": 430
        }
      },
      "outputs": [
        {
          "output_type": "display_data",
          "data": {
            "text/plain": [
              "<Figure size 640x480 with 1 Axes>"
            ],
            "image/png": "[encoded data removed]"
          },
          "metadata": {}
        }
      ],
      "source": [
        "%matplotlib inline\n",
        "import matplotlib.pyplot as plt\n",
        "heads = np.random.binomial(500, .5, size=500)\n",
        "histogram = plt.hist(heads, bins=10)"
      ]
    },
    {
      "cell_type": "markdown",
      "metadata": {
        "collapsed": true,
        "id": "Cx0S6PAiVajX"
      },
      "source": [
        "# Task 1\n",
        "## write a program to produce Fibonacci numbers up to 1000000"
      ]
    },
    {
      "cell_type": "code",
      "execution_count": 7,
      "metadata": {
        "id": "AaeuGAGDVajY",
        "colab": {
          "base_uri": "https://localhost:8080/"
        },
        "outputId": "313dd664-c710-4e80-fab6-9b91421c7c9b"
      },
      "outputs": [
        {
          "output_type": "stream",
          "name": "stdout",
          "text": [
            "0\n",
            "1\n",
            "1\n",
            "2\n",
            "3\n",
            "5\n",
            "8\n",
            "13\n",
            "21\n",
            "34\n",
            "55\n",
            "89\n",
            "144\n",
            "233\n",
            "377\n",
            "610\n",
            "987\n",
            "1597\n",
            "2584\n",
            "4181\n",
            "6765\n",
            "10946\n",
            "17711\n",
            "28657\n",
            "46368\n",
            "75025\n",
            "121393\n",
            "196418\n",
            "317811\n",
            "514229\n",
            "832040\n"
          ]
        }
      ],
      "source": [
        "a,b = 0,1\n",
        "while a < 1000000:\n",
        "    print(a)\n",
        "    a, b = b, a+b\n"
      ]
    },
    {
      "cell_type": "markdown",
      "metadata": {
        "id": "z9gy1-EaVajZ"
      },
      "source": [
        "# Task 2\n",
        "## write a program to simulate 1000 tosses of a fair coin (use np.random.binomial)\n",
        "## Calculate the mean and standard deviation of that sample"
      ]
    },
    {
      "cell_type": "code",
      "execution_count": 8,
      "metadata": {
        "collapsed": true,
        "id": "7wXnhcIHVajZ",
        "colab": {
          "base_uri": "https://localhost:8080/"
        },
        "outputId": "a78e2b04-dacd-4176-d235-abc60d43229c"
      },
      "outputs": [
        {
          "output_type": "stream",
          "name": "stdout",
          "text": [
            "Standard Deviation:  0.4999509975987647\n",
            "Mean:  0.507\n"
          ]
        }
      ],
      "source": [
        "vals = np.random.binomial(1, 0.5, size=1000)\n",
        "\n",
        "std = np.std(vals)\n",
        "print(\"Standard Deviation: \", std)\n",
        "\n",
        "mean = np.mean(vals)\n",
        "print(\"Mean: \", mean)"
      ]
    },
    {
      "cell_type": "markdown",
      "metadata": {
        "id": "3ug709otVajZ"
      },
      "source": [
        "# Task 3\n",
        "## Produce a scatterplot of y = 0.5*x+e where x has gaussian (0, 5) and e has gaussian (0, 1) distributions\n",
        "### use numpy.random.normal to generate gaussian distribution"
      ]
    },
    {
      "cell_type": "code",
      "execution_count": 9,
      "metadata": {
        "collapsed": true,
        "id": "GxrcF0NvVaja",
        "colab": {
          "base_uri": "https://localhost:8080/",
          "height": 447
        },
        "outputId": "c35254c8-28e3-4d27-a77d-0d673cd2f177"
      },
      "outputs": [
        {
          "output_type": "execute_result",
          "data": {
            "text/plain": [
              "<matplotlib.collections.PathCollection at 0x791ca1d6fe80>"
            ]
          },
          "metadata": {},
          "execution_count": 9
        },
        {
          "output_type": "display_data",
          "data": {
            "text/plain": [
              "<Figure size 640x480 with 1 Axes>"
            ],
            "image/png": "[encoded data removed]"
          },
          "metadata": {}
        }
      ],
      "source": [
        "x = np.random.normal(0, 5, size=1000)\n",
        "e = np.random.normal(0, 1, size=1000)\n",
        "\n",
        "y = 0.5*x + e\n",
        "\n",
        "plt.scatter(x, y)"
      ]
    }
  ],
  "metadata": {
    "kernelspec": {
      "display_name": "Python 3",
      "language": "python",
      "name": "python3"
    },
    "language_info": {
      "codemirror_mode": {
        "name": "ipython",
        "version": 3
      },
      "file_extension": ".py",
      "mimetype": "text/x-python",
      "name": "python",
      "nbconvert_exporter": "python",
      "pygments_lexer": "ipython3",
      "version": "3.5.2"
    },
    "colab": {
      "provenance": [],
      "include_colab_link": true
    }
  },
  "nbformat": 4,
  "nbformat_minor": 0
}